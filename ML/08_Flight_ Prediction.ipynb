{
 "cells": [
  {
   "cell_type": "markdown",
   "metadata": {},
   "source": [
    "# Flight Price Prediction Model\n",
    "\n",
    "## Instruction:\n",
    "1. You will have a dataset.\n",
    "2. Find the cheapest and expenses flight at specific time.\n",
    "3. You have to go through EDA.\n",
    "4. ML Model\n",
    "5. Find a sweet spot for a cheap ticket."
   ]
  },
  {
   "cell_type": "markdown",
   "metadata": {},
   "source": [
    "- Ahmed is a customer of sastaticket.pk. He is planning to fly from Karachi to Islamabad for his brother's wedding and is currently in the process of choosing tickets. Ahmed has to go to Islamabad but Ahmed also wants to save some money in the process, so he chooses to wait instead of buying now, simply because ticket prices are just too high.\n",
    "- Is this the right decission? Won't ticket prices increase in the future? Perhaps there is a sweet-spot Ahmed is hoping to find and maybe he just might find it. This is the problem that you will be tackling in this competition.\n",
    "- Can you predict future prices accurately to such a degree that you can now tell Ahmed - with confidence - that he has made the wrong decision. Your task boils down to generating optimal predictions for flight prices of multiple airlines. Your model will contribute greatly to Sastaticket's rich and diverse set of operating algorithms.    "
   ]
  },
  {
   "cell_type": "markdown",
   "metadata": {},
   "source": [
    "## 1. Exploratory Data Analysis:"
   ]
  },
  {
   "cell_type": "markdown",
   "metadata": {},
   "source": [
    "We will extract information from our data"
   ]
  },
  {
   "cell_type": "code",
   "execution_count": 1,
   "metadata": {},
   "outputs": [],
   "source": [
    "# Import Libraries \n",
    "import pandas as pd\n",
    "import numpy as np\n",
    "import seaborn as sns\n",
    "import matplotlib.pyplot as plt"
   ]
  },
  {
   "cell_type": "code",
   "execution_count": 2,
   "metadata": {},
   "outputs": [],
   "source": [
    "# Load your data\n",
    "df = pd.read_csv('E:\\Python\\ML\\Sasta Ticket Dataset\\sastaticket_train.csv')\n",
    "df_test = pd.read_csv('E:\\Python\\ML\\Sasta Ticket Dataset\\sastaticket_test.csv')"
   ]
  },
  {
   "cell_type": "code",
   "execution_count": 3,
   "metadata": {},
   "outputs": [
    {
     "name": "stdout",
     "output_type": "stream",
     "text": [
      "Column, Rows (5000, 14)\n"
     ]
    }
   ],
   "source": [
    "print('Column, Rows', df.shape)"
   ]
  },
  {
   "cell_type": "code",
   "execution_count": 4,
   "metadata": {},
   "outputs": [
    {
     "name": "stdout",
     "output_type": "stream",
     "text": [
      "<class 'pandas.core.frame.DataFrame'>\n",
      "RangeIndex: 5000 entries, 0 to 4999\n",
      "Data columns (total 14 columns):\n",
      " #   Column        Non-Null Count  Dtype  \n",
      "---  ------        --------------  -----  \n",
      " 0   Unnamed: 0    5000 non-null   int64  \n",
      " 1   Unnamed: 0.1  5000 non-null   int64  \n",
      " 2   f1            5000 non-null   object \n",
      " 3   f2            5000 non-null   object \n",
      " 4   f3            5000 non-null   object \n",
      " 5   f4            5000 non-null   object \n",
      " 6   f5            5000 non-null   object \n",
      " 7   f6            5000 non-null   object \n",
      " 8   f7            5000 non-null   bool   \n",
      " 9   f8            5000 non-null   float64\n",
      " 10  f9            5000 non-null   int64  \n",
      " 11  f10           5000 non-null   object \n",
      " 12  Unnamed: 0.2  5000 non-null   int64  \n",
      " 13  target        5000 non-null   float64\n",
      "dtypes: bool(1), float64(2), int64(4), object(7)\n",
      "memory usage: 376.0+ KB\n"
     ]
    }
   ],
   "source": [
    "# Structure\n",
    "df.info()"
   ]
  },
  {
   "cell_type": "code",
   "execution_count": 5,
   "metadata": {},
   "outputs": [
    {
     "data": {
      "text/plain": [
       "Unnamed: 0      0\n",
       "Unnamed: 0.1    0\n",
       "f1              0\n",
       "f2              0\n",
       "f3              0\n",
       "f4              0\n",
       "f5              0\n",
       "f6              0\n",
       "f7              0\n",
       "f8              0\n",
       "f9              0\n",
       "f10             0\n",
       "Unnamed: 0.2    0\n",
       "target          0\n",
       "dtype: int64"
      ]
     },
     "execution_count": 5,
     "metadata": {},
     "output_type": "execute_result"
    }
   ],
   "source": [
    "# Check null value\n",
    "df.isnull().sum()"
   ]
  },
  {
   "cell_type": "code",
   "execution_count": 6,
   "metadata": {},
   "outputs": [
    {
     "data": {
      "text/html": [
       "<div>\n",
       "<style scoped>\n",
       "    .dataframe tbody tr th:only-of-type {\n",
       "        vertical-align: middle;\n",
       "    }\n",
       "\n",
       "    .dataframe tbody tr th {\n",
       "        vertical-align: top;\n",
       "    }\n",
       "\n",
       "    .dataframe thead th {\n",
       "        text-align: right;\n",
       "    }\n",
       "</style>\n",
       "<table border=\"1\" class=\"dataframe\">\n",
       "  <thead>\n",
       "    <tr style=\"text-align: right;\">\n",
       "      <th></th>\n",
       "      <th>Unnamed: 0</th>\n",
       "      <th>Unnamed: 0.1</th>\n",
       "      <th>f8</th>\n",
       "      <th>f9</th>\n",
       "      <th>Unnamed: 0.2</th>\n",
       "      <th>target</th>\n",
       "    </tr>\n",
       "  </thead>\n",
       "  <tbody>\n",
       "    <tr>\n",
       "      <th>count</th>\n",
       "      <td>5.000000e+03</td>\n",
       "      <td>5.000000e+03</td>\n",
       "      <td>5000.000000</td>\n",
       "      <td>5000.000000</td>\n",
       "      <td>5.000000e+03</td>\n",
       "      <td>5000.000000</td>\n",
       "    </tr>\n",
       "    <tr>\n",
       "      <th>mean</th>\n",
       "      <td>1.086293e+07</td>\n",
       "      <td>1.086293e+07</td>\n",
       "      <td>22.494400</td>\n",
       "      <td>0.944600</td>\n",
       "      <td>1.086293e+07</td>\n",
       "      <td>10104.351800</td>\n",
       "    </tr>\n",
       "    <tr>\n",
       "      <th>std</th>\n",
       "      <td>6.275456e+06</td>\n",
       "      <td>6.275456e+06</td>\n",
       "      <td>8.887101</td>\n",
       "      <td>0.607951</td>\n",
       "      <td>6.275456e+06</td>\n",
       "      <td>3359.936118</td>\n",
       "    </tr>\n",
       "    <tr>\n",
       "      <th>min</th>\n",
       "      <td>2.499000e+03</td>\n",
       "      <td>2.499000e+03</td>\n",
       "      <td>0.000000</td>\n",
       "      <td>0.000000</td>\n",
       "      <td>2.499000e+03</td>\n",
       "      <td>4990.000000</td>\n",
       "    </tr>\n",
       "    <tr>\n",
       "      <th>25%</th>\n",
       "      <td>5.417290e+06</td>\n",
       "      <td>5.417290e+06</td>\n",
       "      <td>20.000000</td>\n",
       "      <td>1.000000</td>\n",
       "      <td>5.417290e+06</td>\n",
       "      <td>7796.000000</td>\n",
       "    </tr>\n",
       "    <tr>\n",
       "      <th>50%</th>\n",
       "      <td>1.093803e+07</td>\n",
       "      <td>1.093803e+07</td>\n",
       "      <td>20.000000</td>\n",
       "      <td>1.000000</td>\n",
       "      <td>1.093803e+07</td>\n",
       "      <td>9403.000000</td>\n",
       "    </tr>\n",
       "    <tr>\n",
       "      <th>75%</th>\n",
       "      <td>1.621582e+07</td>\n",
       "      <td>1.621582e+07</td>\n",
       "      <td>32.000000</td>\n",
       "      <td>1.000000</td>\n",
       "      <td>1.621582e+07</td>\n",
       "      <td>11245.000000</td>\n",
       "    </tr>\n",
       "    <tr>\n",
       "      <th>max</th>\n",
       "      <td>2.177443e+07</td>\n",
       "      <td>2.177443e+07</td>\n",
       "      <td>45.000000</td>\n",
       "      <td>2.000000</td>\n",
       "      <td>2.177443e+07</td>\n",
       "      <td>33720.000000</td>\n",
       "    </tr>\n",
       "  </tbody>\n",
       "</table>\n",
       "</div>"
      ],
      "text/plain": [
       "         Unnamed: 0  Unnamed: 0.1           f8           f9  Unnamed: 0.2  \\\n",
       "count  5.000000e+03  5.000000e+03  5000.000000  5000.000000  5.000000e+03   \n",
       "mean   1.086293e+07  1.086293e+07    22.494400     0.944600  1.086293e+07   \n",
       "std    6.275456e+06  6.275456e+06     8.887101     0.607951  6.275456e+06   \n",
       "min    2.499000e+03  2.499000e+03     0.000000     0.000000  2.499000e+03   \n",
       "25%    5.417290e+06  5.417290e+06    20.000000     1.000000  5.417290e+06   \n",
       "50%    1.093803e+07  1.093803e+07    20.000000     1.000000  1.093803e+07   \n",
       "75%    1.621582e+07  1.621582e+07    32.000000     1.000000  1.621582e+07   \n",
       "max    2.177443e+07  2.177443e+07    45.000000     2.000000  2.177443e+07   \n",
       "\n",
       "             target  \n",
       "count   5000.000000  \n",
       "mean   10104.351800  \n",
       "std     3359.936118  \n",
       "min     4990.000000  \n",
       "25%     7796.000000  \n",
       "50%     9403.000000  \n",
       "75%    11245.000000  \n",
       "max    33720.000000  "
      ]
     },
     "execution_count": 6,
     "metadata": {},
     "output_type": "execute_result"
    }
   ],
   "source": [
    "# Summary stats\n",
    "df.describe()"
   ]
  },
  {
   "cell_type": "code",
   "execution_count": 7,
   "metadata": {},
   "outputs": [
    {
     "data": {
      "text/html": [
       "<div>\n",
       "<style scoped>\n",
       "    .dataframe tbody tr th:only-of-type {\n",
       "        vertical-align: middle;\n",
       "    }\n",
       "\n",
       "    .dataframe tbody tr th {\n",
       "        vertical-align: top;\n",
       "    }\n",
       "\n",
       "    .dataframe thead th {\n",
       "        text-align: right;\n",
       "    }\n",
       "</style>\n",
       "<table border=\"1\" class=\"dataframe\">\n",
       "  <thead>\n",
       "    <tr style=\"text-align: right;\">\n",
       "      <th></th>\n",
       "      <th>Unnamed: 0</th>\n",
       "      <th>Unnamed: 0.1</th>\n",
       "      <th>f1</th>\n",
       "      <th>f2</th>\n",
       "      <th>f3</th>\n",
       "      <th>f4</th>\n",
       "      <th>f5</th>\n",
       "      <th>f6</th>\n",
       "      <th>f7</th>\n",
       "      <th>f8</th>\n",
       "      <th>f9</th>\n",
       "      <th>f10</th>\n",
       "      <th>Unnamed: 0.2</th>\n",
       "      <th>target</th>\n",
       "    </tr>\n",
       "  </thead>\n",
       "  <tbody>\n",
       "    <tr>\n",
       "      <th>0</th>\n",
       "      <td>276919</td>\n",
       "      <td>276919</td>\n",
       "      <td>2021-01-08 12:43:27.828728+00:00</td>\n",
       "      <td>x</td>\n",
       "      <td>y</td>\n",
       "      <td>2021-01-23 05:00:00+00:00</td>\n",
       "      <td>2021-01-23 07:00:00+00:00</td>\n",
       "      <td>gamma</td>\n",
       "      <td>True</td>\n",
       "      <td>0.0</td>\n",
       "      <td>0</td>\n",
       "      <td>c-2</td>\n",
       "      <td>276919</td>\n",
       "      <td>7400.0</td>\n",
       "    </tr>\n",
       "    <tr>\n",
       "      <th>1</th>\n",
       "      <td>12092463</td>\n",
       "      <td>12092463</td>\n",
       "      <td>2021-07-01 04:45:11.397541+00:00</td>\n",
       "      <td>x</td>\n",
       "      <td>y</td>\n",
       "      <td>2021-07-01 13:00:00+00:00</td>\n",
       "      <td>2021-07-01 15:00:00+00:00</td>\n",
       "      <td>alpha</td>\n",
       "      <td>True</td>\n",
       "      <td>35.0</td>\n",
       "      <td>1</td>\n",
       "      <td>a-9</td>\n",
       "      <td>12092463</td>\n",
       "      <td>15377.0</td>\n",
       "    </tr>\n",
       "    <tr>\n",
       "      <th>2</th>\n",
       "      <td>11061788</td>\n",
       "      <td>11061788</td>\n",
       "      <td>2021-06-24 11:28:47.565115+00:00</td>\n",
       "      <td>x</td>\n",
       "      <td>y</td>\n",
       "      <td>2021-07-29 14:00:00+00:00</td>\n",
       "      <td>2021-07-29 16:00:00+00:00</td>\n",
       "      <td>gamma</td>\n",
       "      <td>True</td>\n",
       "      <td>20.0</td>\n",
       "      <td>1</td>\n",
       "      <td>c-4</td>\n",
       "      <td>11061788</td>\n",
       "      <td>6900.0</td>\n",
       "    </tr>\n",
       "    <tr>\n",
       "      <th>3</th>\n",
       "      <td>8799808</td>\n",
       "      <td>8799808</td>\n",
       "      <td>2021-06-05 11:09:48.655927+00:00</td>\n",
       "      <td>x</td>\n",
       "      <td>y</td>\n",
       "      <td>2021-06-09 16:00:00+00:00</td>\n",
       "      <td>2021-06-09 18:00:00+00:00</td>\n",
       "      <td>alpha</td>\n",
       "      <td>True</td>\n",
       "      <td>15.0</td>\n",
       "      <td>1</td>\n",
       "      <td>a-23</td>\n",
       "      <td>8799808</td>\n",
       "      <td>9707.0</td>\n",
       "    </tr>\n",
       "    <tr>\n",
       "      <th>4</th>\n",
       "      <td>16391150</td>\n",
       "      <td>16391150</td>\n",
       "      <td>2021-07-29 09:53:51.065306+00:00</td>\n",
       "      <td>x</td>\n",
       "      <td>y</td>\n",
       "      <td>2021-08-23 05:00:00+00:00</td>\n",
       "      <td>2021-08-23 06:55:00+00:00</td>\n",
       "      <td>beta</td>\n",
       "      <td>True</td>\n",
       "      <td>20.0</td>\n",
       "      <td>0</td>\n",
       "      <td>b-1</td>\n",
       "      <td>16391150</td>\n",
       "      <td>6500.0</td>\n",
       "    </tr>\n",
       "  </tbody>\n",
       "</table>\n",
       "</div>"
      ],
      "text/plain": [
       "   Unnamed: 0  Unnamed: 0.1                                f1 f2 f3  \\\n",
       "0      276919        276919  2021-01-08 12:43:27.828728+00:00  x  y   \n",
       "1    12092463      12092463  2021-07-01 04:45:11.397541+00:00  x  y   \n",
       "2    11061788      11061788  2021-06-24 11:28:47.565115+00:00  x  y   \n",
       "3     8799808       8799808  2021-06-05 11:09:48.655927+00:00  x  y   \n",
       "4    16391150      16391150  2021-07-29 09:53:51.065306+00:00  x  y   \n",
       "\n",
       "                          f4                         f5     f6    f7    f8  \\\n",
       "0  2021-01-23 05:00:00+00:00  2021-01-23 07:00:00+00:00  gamma  True   0.0   \n",
       "1  2021-07-01 13:00:00+00:00  2021-07-01 15:00:00+00:00  alpha  True  35.0   \n",
       "2  2021-07-29 14:00:00+00:00  2021-07-29 16:00:00+00:00  gamma  True  20.0   \n",
       "3  2021-06-09 16:00:00+00:00  2021-06-09 18:00:00+00:00  alpha  True  15.0   \n",
       "4  2021-08-23 05:00:00+00:00  2021-08-23 06:55:00+00:00   beta  True  20.0   \n",
       "\n",
       "   f9   f10  Unnamed: 0.2   target  \n",
       "0   0   c-2        276919   7400.0  \n",
       "1   1   a-9      12092463  15377.0  \n",
       "2   1   c-4      11061788   6900.0  \n",
       "3   1  a-23       8799808   9707.0  \n",
       "4   0   b-1      16391150   6500.0  "
      ]
     },
     "execution_count": 7,
     "metadata": {},
     "output_type": "execute_result"
    }
   ],
   "source": [
    "df.head()"
   ]
  },
  {
   "cell_type": "code",
   "execution_count": 8,
   "metadata": {},
   "outputs": [
    {
     "name": "stdout",
     "output_type": "stream",
     "text": [
      "Index(['Unnamed: 0', 'Unnamed: 0.1', 'f1', 'f2', 'f3', 'f4', 'f5', 'f6', 'f7',\n",
      "       'f8', 'f9', 'f10', 'Unnamed: 0.2', 'target'],\n",
      "      dtype='object')\n"
     ]
    }
   ],
   "source": [
    "print(df.columns)"
   ]
  },
  {
   "cell_type": "code",
   "execution_count": 9,
   "metadata": {},
   "outputs": [
    {
     "name": "stdout",
     "output_type": "stream",
     "text": [
      "f2 ['x']\n",
      ".............................\n",
      "f3 ['y']\n",
      ".............................\n",
      "f6 ['gamma' 'alpha' 'beta' 'omega']\n",
      ".............................\n",
      "f8 [ 0. 35. 20. 15. 32. 40. 45.]\n",
      ".............................\n",
      "f9 [0 1 2]\n",
      ".............................\n",
      "f10 ['c-2' 'a-9' 'c-4' 'a-23' 'b-1' 'a-5' 'b-9' 'a-7' 'd-1' 'c-6' 'a-1' 'd-5'\n",
      " 'b-69' 'b-19' 'd-3' 'b-319' 'b-369' 'b-67' 'b-73']\n",
      ".............................\n"
     ]
    }
   ],
   "source": [
    "# Feature engineering\n",
    "# Finding unique values in categorical lists\n",
    "cat_list = ['f2', 'f3', 'f6', 'f8', 'f9', 'f10']\n",
    "\n",
    "# unique value in each column\n",
    "for i in cat_list:\n",
    "    print(i, df[i].unique())\n",
    "    print('.............................') # Seperator line"
   ]
  },
  {
   "cell_type": "code",
   "execution_count": 10,
   "metadata": {},
   "outputs": [],
   "source": [
    "df.drop(['Unnamed: 0.1', 'f2', 'f3','Unnamed: 0.2'], axis=1, inplace=True)"
   ]
  },
  {
   "cell_type": "code",
   "execution_count": 11,
   "metadata": {},
   "outputs": [
    {
     "data": {
      "text/html": [
       "<div>\n",
       "<style scoped>\n",
       "    .dataframe tbody tr th:only-of-type {\n",
       "        vertical-align: middle;\n",
       "    }\n",
       "\n",
       "    .dataframe tbody tr th {\n",
       "        vertical-align: top;\n",
       "    }\n",
       "\n",
       "    .dataframe thead th {\n",
       "        text-align: right;\n",
       "    }\n",
       "</style>\n",
       "<table border=\"1\" class=\"dataframe\">\n",
       "  <thead>\n",
       "    <tr style=\"text-align: right;\">\n",
       "      <th></th>\n",
       "      <th>Unnamed: 0</th>\n",
       "      <th>f1</th>\n",
       "      <th>f4</th>\n",
       "      <th>f5</th>\n",
       "      <th>f6</th>\n",
       "      <th>f7</th>\n",
       "      <th>f8</th>\n",
       "      <th>f9</th>\n",
       "      <th>f10</th>\n",
       "      <th>target</th>\n",
       "    </tr>\n",
       "  </thead>\n",
       "  <tbody>\n",
       "    <tr>\n",
       "      <th>0</th>\n",
       "      <td>276919</td>\n",
       "      <td>2021-01-08 12:43:27.828728+00:00</td>\n",
       "      <td>2021-01-23 05:00:00+00:00</td>\n",
       "      <td>2021-01-23 07:00:00+00:00</td>\n",
       "      <td>gamma</td>\n",
       "      <td>True</td>\n",
       "      <td>0.0</td>\n",
       "      <td>0</td>\n",
       "      <td>c-2</td>\n",
       "      <td>7400.0</td>\n",
       "    </tr>\n",
       "    <tr>\n",
       "      <th>1</th>\n",
       "      <td>12092463</td>\n",
       "      <td>2021-07-01 04:45:11.397541+00:00</td>\n",
       "      <td>2021-07-01 13:00:00+00:00</td>\n",
       "      <td>2021-07-01 15:00:00+00:00</td>\n",
       "      <td>alpha</td>\n",
       "      <td>True</td>\n",
       "      <td>35.0</td>\n",
       "      <td>1</td>\n",
       "      <td>a-9</td>\n",
       "      <td>15377.0</td>\n",
       "    </tr>\n",
       "    <tr>\n",
       "      <th>2</th>\n",
       "      <td>11061788</td>\n",
       "      <td>2021-06-24 11:28:47.565115+00:00</td>\n",
       "      <td>2021-07-29 14:00:00+00:00</td>\n",
       "      <td>2021-07-29 16:00:00+00:00</td>\n",
       "      <td>gamma</td>\n",
       "      <td>True</td>\n",
       "      <td>20.0</td>\n",
       "      <td>1</td>\n",
       "      <td>c-4</td>\n",
       "      <td>6900.0</td>\n",
       "    </tr>\n",
       "    <tr>\n",
       "      <th>3</th>\n",
       "      <td>8799808</td>\n",
       "      <td>2021-06-05 11:09:48.655927+00:00</td>\n",
       "      <td>2021-06-09 16:00:00+00:00</td>\n",
       "      <td>2021-06-09 18:00:00+00:00</td>\n",
       "      <td>alpha</td>\n",
       "      <td>True</td>\n",
       "      <td>15.0</td>\n",
       "      <td>1</td>\n",
       "      <td>a-23</td>\n",
       "      <td>9707.0</td>\n",
       "    </tr>\n",
       "    <tr>\n",
       "      <th>4</th>\n",
       "      <td>16391150</td>\n",
       "      <td>2021-07-29 09:53:51.065306+00:00</td>\n",
       "      <td>2021-08-23 05:00:00+00:00</td>\n",
       "      <td>2021-08-23 06:55:00+00:00</td>\n",
       "      <td>beta</td>\n",
       "      <td>True</td>\n",
       "      <td>20.0</td>\n",
       "      <td>0</td>\n",
       "      <td>b-1</td>\n",
       "      <td>6500.0</td>\n",
       "    </tr>\n",
       "  </tbody>\n",
       "</table>\n",
       "</div>"
      ],
      "text/plain": [
       "   Unnamed: 0                                f1                         f4  \\\n",
       "0      276919  2021-01-08 12:43:27.828728+00:00  2021-01-23 05:00:00+00:00   \n",
       "1    12092463  2021-07-01 04:45:11.397541+00:00  2021-07-01 13:00:00+00:00   \n",
       "2    11061788  2021-06-24 11:28:47.565115+00:00  2021-07-29 14:00:00+00:00   \n",
       "3     8799808  2021-06-05 11:09:48.655927+00:00  2021-06-09 16:00:00+00:00   \n",
       "4    16391150  2021-07-29 09:53:51.065306+00:00  2021-08-23 05:00:00+00:00   \n",
       "\n",
       "                          f5     f6    f7    f8  f9   f10   target  \n",
       "0  2021-01-23 07:00:00+00:00  gamma  True   0.0   0   c-2   7400.0  \n",
       "1  2021-07-01 15:00:00+00:00  alpha  True  35.0   1   a-9  15377.0  \n",
       "2  2021-07-29 16:00:00+00:00  gamma  True  20.0   1   c-4   6900.0  \n",
       "3  2021-06-09 18:00:00+00:00  alpha  True  15.0   1  a-23   9707.0  \n",
       "4  2021-08-23 06:55:00+00:00   beta  True  20.0   0   b-1   6500.0  "
      ]
     },
     "execution_count": 11,
     "metadata": {},
     "output_type": "execute_result"
    }
   ],
   "source": [
    "df.head()"
   ]
  },
  {
   "cell_type": "code",
   "execution_count": 12,
   "metadata": {},
   "outputs": [
    {
     "name": "stdout",
     "output_type": "stream",
     "text": [
      "<class 'pandas.core.frame.DataFrame'>\n",
      "RangeIndex: 5000 entries, 0 to 4999\n",
      "Data columns (total 10 columns):\n",
      " #   Column      Non-Null Count  Dtype  \n",
      "---  ------      --------------  -----  \n",
      " 0   Unnamed: 0  5000 non-null   int64  \n",
      " 1   f1          5000 non-null   object \n",
      " 2   f4          5000 non-null   object \n",
      " 3   f5          5000 non-null   object \n",
      " 4   f6          5000 non-null   object \n",
      " 5   f7          5000 non-null   bool   \n",
      " 6   f8          5000 non-null   float64\n",
      " 7   f9          5000 non-null   int64  \n",
      " 8   f10         5000 non-null   object \n",
      " 9   target      5000 non-null   float64\n",
      "dtypes: bool(1), float64(2), int64(2), object(5)\n",
      "memory usage: 258.9+ KB\n"
     ]
    }
   ],
   "source": [
    "# Type casting\n",
    "df =  df.info()"
   ]
  },
  {
   "cell_type": "code",
   "execution_count": null,
   "metadata": {},
   "outputs": [],
   "source": [
    "# convert them into date and time objects\n",
    "from datetime import date, datetime\n",
    "df['f1'] = pd.to_datetime(df['f1'])\n",
    "df['f4'] = pd.to_datetime(df['f4'])\n",
    "df['f5'] = pd.to_datetime(df['f5'])"
   ]
  },
  {
   "cell_type": "code",
   "execution_count": null,
   "metadata": {},
   "outputs": [],
   "source": [
    "df.info()"
   ]
  },
  {
   "cell_type": "code",
   "execution_count": null,
   "metadata": {},
   "outputs": [],
   "source": [
    "# Adding column after substraction\n",
    "df.insert(0, \"time_to_dep(s)\", ((df['f4']-df['f1']).astype('timedelta64[s]')), True)\n",
    "df.insert(1, \"travel_time(s)\", ((df['f5']-df['f4']).astype('timedelta64[s]')), True)"
   ]
  },
  {
   "cell_type": "code",
   "execution_count": null,
   "metadata": {},
   "outputs": [],
   "source": [
    "df.head()"
   ]
  },
  {
   "cell_type": "code",
   "execution_count": null,
   "metadata": {},
   "outputs": [],
   "source": [
    "df.isnull().sum()"
   ]
  },
  {
   "cell_type": "code",
   "execution_count": null,
   "metadata": {},
   "outputs": [],
   "source": [
    "df = df.rename(columns={'f1':'f12'})"
   ]
  },
  {
   "cell_type": "code",
   "execution_count": null,
   "metadata": {},
   "outputs": [],
   "source": [
    "df.head()"
   ]
  },
  {
   "cell_type": "code",
   "execution_count": null,
   "metadata": {},
   "outputs": [],
   "source": [
    "cat_cols = ['f6', 'f7', 'f8', 'f9']\n",
    "num_cols = ['time_to_dep(s)', 'travel_time(s)']"
   ]
  },
  {
   "cell_type": "code",
   "execution_count": null,
   "metadata": {},
   "outputs": [],
   "source": [
    "# Plotting categorical count plot\n",
    "c=1\n",
    "plt.figure(figsize= (10,40))\n",
    "for i in cat_cols:\n",
    "    plt.subplot(2,4,c)\n",
    "    sns.countplot(df[i])\n",
    "    plt.xticks(rotation=90)\n",
    "    plt.tight_layout(pad=3.0)\n",
    "    c= c+1\n",
    "plt.show()"
   ]
  },
  {
   "cell_type": "code",
   "execution_count": null,
   "metadata": {},
   "outputs": [],
   "source": [
    "# Plotting numerical count plot\n",
    "c=1\n",
    "plt.figure(figsize= (10,30))\n",
    "for i in num_cols:\n",
    "    plt.subplot(6,3,c)\n",
    "    sns.distplot(df[i])\n",
    "    c= c+1\n",
    "plt.show()"
   ]
  },
  {
   "cell_type": "code",
   "execution_count": null,
   "metadata": {},
   "outputs": [],
   "source": [
    "c=1\n",
    "plt.figure(figsize= (10,30))\n",
    "for i in num_cols:\n",
    "    plt.subplot(6,3,c)\n",
    "    sns.boxplot(df[i])\n",
    "    c= c+1\n",
    "plt.show()"
   ]
  },
  {
   "cell_type": "code",
   "execution_count": null,
   "metadata": {},
   "outputs": [],
   "source": [
    "# Target \n",
    "sns.displot(df['target'])"
   ]
  },
  {
   "cell_type": "code",
   "execution_count": null,
   "metadata": {},
   "outputs": [],
   "source": [
    "sns.boxplot(df.target)"
   ]
  },
  {
   "cell_type": "code",
   "execution_count": null,
   "metadata": {},
   "outputs": [],
   "source": [
    "# Skew and kurtosis\n",
    "df.skew()\n",
    "df.kurtosis()\n",
    "# Outliers removel task"
   ]
  },
  {
   "cell_type": "code",
   "execution_count": null,
   "metadata": {},
   "outputs": [],
   "source": [
    "# encoding of variables\n",
    "\n",
    "df.head()"
   ]
  },
  {
   "cell_type": "code",
   "execution_count": null,
   "metadata": {},
   "outputs": [],
   "source": [
    "df.drop9['f1', 'f2', 'f5'], axis=1, inplace=True"
   ]
  },
  {
   "cell_type": "code",
   "execution_count": null,
   "metadata": {},
   "outputs": [],
   "source": [
    "df.head()"
   ]
  },
  {
   "cell_type": "code",
   "execution_count": null,
   "metadata": {},
   "outputs": [],
   "source": [
    "# encoding\n",
    "from sklearn.preprocessing import LabelEncoder\n",
    "le = LabelEncoder()"
   ]
  },
  {
   "cell_type": "code",
   "execution_count": null,
   "metadata": {},
   "outputs": [],
   "source": [
    "# apply label encoder\n",
    "df['f6'] = le.fit_transform(df['f6'])\n",
    "df['f7'] = le.fit_transform(df['f7'])\n",
    "df['f8'] = le.fit_transform(df['f8'])"
   ]
  },
  {
   "cell_type": "code",
   "execution_count": null,
   "metadata": {},
   "outputs": [],
   "source": [
    "df.sample(10)"
   ]
  },
  {
   "cell_type": "code",
   "execution_count": null,
   "metadata": {},
   "outputs": [],
   "source": [
    "df.describe()"
   ]
  },
  {
   "cell_type": "code",
   "execution_count": null,
   "metadata": {},
   "outputs": [],
   "source": [
    "# sklearn function to scale our data / normalize\n",
    "from sklearn.preprocessing import StandardScaler\n",
    "sc = StandardScaler()\n",
    "df['time_to_dep(s)']=sc.fit_transform(df['time_to_dep(s)'])\n",
    "df['travel_time(s)']=sc.fit_transform(df['travel_time(s)'])\n",
    "df['target']=sc.fit_transform(df['target'])"
   ]
  },
  {
   "cell_type": "code",
   "execution_count": null,
   "metadata": {},
   "outputs": [],
   "source": [
    "# Splitting our data into X and y\n",
    "\n",
    "X = df.drop(['target'], axis=1)\n",
    "y = df['target']"
   ]
  },
  {
   "cell_type": "code",
   "execution_count": null,
   "metadata": {},
   "outputs": [],
   "source": [
    "X.head()"
   ]
  },
  {
   "cell_type": "code",
   "execution_count": null,
   "metadata": {},
   "outputs": [],
   "source": [
    "y.head()"
   ]
  },
  {
   "cell_type": "markdown",
   "metadata": {},
   "source": [
    "# ML Modeling"
   ]
  },
  {
   "cell_type": "code",
   "execution_count": null,
   "metadata": {},
   "outputs": [],
   "source": [
    "# Regression pipeline or algos\n",
    "\n",
    "from sklearn.linear_model import LinearRegression\n",
    "from sklearn.tree import DecisionTreeClassifier\n",
    "from sklearn.svm import SVR\n",
    "from sklearn.neighbors import KNeighborsRegressor\n",
    "from sklearn.model_selection import train_test_split\n",
    "from sklearn.metrics import r2_score, mean_absolute_error, mean_squared_error\n",
    "\n",
    "# root mean squared error\n",
    "# rms = mean_absolute_error(y_test, y_pred, squared=False)"
   ]
  },
  {
   "cell_type": "code",
   "execution_count": null,
   "metadata": {},
   "outputs": [],
   "source": [
    "# shorten the names\n",
    "lr = LinearRegression()\n",
    "dt = DecisionTreeClassifier()\n",
    "svr = SVR()\n",
    "knn = KNeighborsRegressor()"
   ]
  },
  {
   "cell_type": "code",
   "execution_count": null,
   "metadata": {},
   "outputs": [],
   "source": [
    "lr.fit()\n",
    "lr(X_train, y_train)\n",
    "pred = lr.predict()"
   ]
  },
  {
   "cell_type": "code",
   "execution_count": null,
   "metadata": {},
   "outputs": [],
   "source": [
    "# model loop\n",
    "\n",
    "X_train, X_test, y_train, y_test = train_test_split(X, y, test_size=0.2, random_state=42)\n",
    "\n",
    "for i in[lr, dt, svr, knn]: # read all models\n",
    "    i.fit(X_train, y_train) # fitting our model\n",
    "    pred = i.predict(X_test) # predict\n",
    "    test_score = r2_score(y_test, pred) # test score\n",
    "    train_score= r2_score(y_train, i.predict(X_train)) # train score\n",
    "    if abs(train_score-test_score) <= 0.1:\n",
    "        print(i)\n",
    "        print('R2 score is: ', r2_score(y_test, pred))\n",
    "        print('Mean Absolute error is', mean_absolute_error(y_test, pred))\n",
    "        print('Mean squared error is', mean_squared_error(y_test, pred))\n",
    "        print('RMSE is', mean_squared_error(y_test, pred, squared=False))\n",
    "        print('----------------------------------------------------')"
   ]
  },
  {
   "cell_type": "code",
   "execution_count": null,
   "metadata": {},
   "outputs": [],
   "source": [
    "# model loop\n",
    "\n",
    "X_train, X_test, y_train, y_test = train_test_split(X, y, test_size=0.3, random_state=42)\n",
    "\n",
    "for i in[lr, dt, svr, knn]: # read all models\n",
    "    i.fit(X_train, y_train) # fitting our model\n",
    "    pred = i.predict(X_test) # predict\n",
    "    test_score = r2_score(y_test, pred) # test score\n",
    "    train_score= r2_score(y_train, i.predict(X_train)) # train score\n",
    "    if abs(train_score-test_score) <= 0.1:\n",
    "        print(i)\n",
    "        print('R2 score is: ', r2_score(y_test, pred))\n",
    "        print('Mean Absolute error is', mean_absolute_error(y_test, pred))\n",
    "        print('Mean squared error is', mean_squared_error(y_test, pred))\n",
    "        print('RMSE is', mean_squared_error(y_test, pred, squared=False))\n",
    "        print('----------------------------------------------------')\n",
    "\n",
    "# To save prediction\n",
    "res = pd.DataFrame(pred)\n",
    "res.index = X_test.index # its important for comparison \n",
    "res.columns = ['prediction']\n",
    "res.to_csv(\"E:\\Python\\ML\\prediction_results_with_traintestsplit.csv\")"
   ]
  },
  {
   "cell_type": "code",
   "execution_count": null,
   "metadata": {},
   "outputs": [],
   "source": [
    "df_test.head()"
   ]
  },
  {
   "cell_type": "code",
   "execution_count": null,
   "metadata": {},
   "outputs": [],
   "source": [
    "# final data prediction\n",
    "\n",
    "lr = LinearRegression().fit(X,y)\n",
    "pred = lr.predict(df_test)\n",
    "# To save prediction\n",
    "res = pd.DataFrame(pred)\n",
    "res.index = X_test.index # its important for comparison \n",
    "res.columns = ['prediction']\n",
    "res.to_csv(\"prediction_results.csv\")"
   ]
  },
  {
   "cell_type": "markdown",
   "metadata": {},
   "source": [
    "# Second Method"
   ]
  },
  {
   "cell_type": "code",
   "execution_count": 20,
   "metadata": {},
   "outputs": [
    {
     "data": {
      "text/html": [
       "<div>\n",
       "<style scoped>\n",
       "    .dataframe tbody tr th:only-of-type {\n",
       "        vertical-align: middle;\n",
       "    }\n",
       "\n",
       "    .dataframe tbody tr th {\n",
       "        vertical-align: top;\n",
       "    }\n",
       "\n",
       "    .dataframe thead th {\n",
       "        text-align: right;\n",
       "    }\n",
       "</style>\n",
       "<table border=\"1\" class=\"dataframe\">\n",
       "  <thead>\n",
       "    <tr style=\"text-align: right;\">\n",
       "      <th></th>\n",
       "      <th>Unnamed: 0</th>\n",
       "      <th>Unnamed: 0.1</th>\n",
       "      <th>f1</th>\n",
       "      <th>f2</th>\n",
       "      <th>f3</th>\n",
       "      <th>f4</th>\n",
       "      <th>f5</th>\n",
       "      <th>f6</th>\n",
       "      <th>f7</th>\n",
       "      <th>f8</th>\n",
       "      <th>f9</th>\n",
       "      <th>f10</th>\n",
       "      <th>Unnamed: 0.2</th>\n",
       "      <th>target</th>\n",
       "    </tr>\n",
       "  </thead>\n",
       "  <tbody>\n",
       "    <tr>\n",
       "      <th>0</th>\n",
       "      <td>276919</td>\n",
       "      <td>276919</td>\n",
       "      <td>2021-01-08 12:43:27.828728+00:00</td>\n",
       "      <td>x</td>\n",
       "      <td>y</td>\n",
       "      <td>2021-01-23 05:00:00+00:00</td>\n",
       "      <td>2021-01-23 07:00:00+00:00</td>\n",
       "      <td>gamma</td>\n",
       "      <td>True</td>\n",
       "      <td>0.0</td>\n",
       "      <td>0</td>\n",
       "      <td>c-2</td>\n",
       "      <td>276919</td>\n",
       "      <td>7400.0</td>\n",
       "    </tr>\n",
       "    <tr>\n",
       "      <th>1</th>\n",
       "      <td>12092463</td>\n",
       "      <td>12092463</td>\n",
       "      <td>2021-07-01 04:45:11.397541+00:00</td>\n",
       "      <td>x</td>\n",
       "      <td>y</td>\n",
       "      <td>2021-07-01 13:00:00+00:00</td>\n",
       "      <td>2021-07-01 15:00:00+00:00</td>\n",
       "      <td>alpha</td>\n",
       "      <td>True</td>\n",
       "      <td>35.0</td>\n",
       "      <td>1</td>\n",
       "      <td>a-9</td>\n",
       "      <td>12092463</td>\n",
       "      <td>15377.0</td>\n",
       "    </tr>\n",
       "    <tr>\n",
       "      <th>2</th>\n",
       "      <td>11061788</td>\n",
       "      <td>11061788</td>\n",
       "      <td>2021-06-24 11:28:47.565115+00:00</td>\n",
       "      <td>x</td>\n",
       "      <td>y</td>\n",
       "      <td>2021-07-29 14:00:00+00:00</td>\n",
       "      <td>2021-07-29 16:00:00+00:00</td>\n",
       "      <td>gamma</td>\n",
       "      <td>True</td>\n",
       "      <td>20.0</td>\n",
       "      <td>1</td>\n",
       "      <td>c-4</td>\n",
       "      <td>11061788</td>\n",
       "      <td>6900.0</td>\n",
       "    </tr>\n",
       "    <tr>\n",
       "      <th>3</th>\n",
       "      <td>8799808</td>\n",
       "      <td>8799808</td>\n",
       "      <td>2021-06-05 11:09:48.655927+00:00</td>\n",
       "      <td>x</td>\n",
       "      <td>y</td>\n",
       "      <td>2021-06-09 16:00:00+00:00</td>\n",
       "      <td>2021-06-09 18:00:00+00:00</td>\n",
       "      <td>alpha</td>\n",
       "      <td>True</td>\n",
       "      <td>15.0</td>\n",
       "      <td>1</td>\n",
       "      <td>a-23</td>\n",
       "      <td>8799808</td>\n",
       "      <td>9707.0</td>\n",
       "    </tr>\n",
       "    <tr>\n",
       "      <th>4</th>\n",
       "      <td>16391150</td>\n",
       "      <td>16391150</td>\n",
       "      <td>2021-07-29 09:53:51.065306+00:00</td>\n",
       "      <td>x</td>\n",
       "      <td>y</td>\n",
       "      <td>2021-08-23 05:00:00+00:00</td>\n",
       "      <td>2021-08-23 06:55:00+00:00</td>\n",
       "      <td>beta</td>\n",
       "      <td>True</td>\n",
       "      <td>20.0</td>\n",
       "      <td>0</td>\n",
       "      <td>b-1</td>\n",
       "      <td>16391150</td>\n",
       "      <td>6500.0</td>\n",
       "    </tr>\n",
       "  </tbody>\n",
       "</table>\n",
       "</div>"
      ],
      "text/plain": [
       "   Unnamed: 0  Unnamed: 0.1                                f1 f2 f3  \\\n",
       "0      276919        276919  2021-01-08 12:43:27.828728+00:00  x  y   \n",
       "1    12092463      12092463  2021-07-01 04:45:11.397541+00:00  x  y   \n",
       "2    11061788      11061788  2021-06-24 11:28:47.565115+00:00  x  y   \n",
       "3     8799808       8799808  2021-06-05 11:09:48.655927+00:00  x  y   \n",
       "4    16391150      16391150  2021-07-29 09:53:51.065306+00:00  x  y   \n",
       "\n",
       "                          f4                         f5     f6    f7    f8  \\\n",
       "0  2021-01-23 05:00:00+00:00  2021-01-23 07:00:00+00:00  gamma  True   0.0   \n",
       "1  2021-07-01 13:00:00+00:00  2021-07-01 15:00:00+00:00  alpha  True  35.0   \n",
       "2  2021-07-29 14:00:00+00:00  2021-07-29 16:00:00+00:00  gamma  True  20.0   \n",
       "3  2021-06-09 16:00:00+00:00  2021-06-09 18:00:00+00:00  alpha  True  15.0   \n",
       "4  2021-08-23 05:00:00+00:00  2021-08-23 06:55:00+00:00   beta  True  20.0   \n",
       "\n",
       "   f9   f10  Unnamed: 0.2   target  \n",
       "0   0   c-2        276919   7400.0  \n",
       "1   1   a-9      12092463  15377.0  \n",
       "2   1   c-4      11061788   6900.0  \n",
       "3   1  a-23       8799808   9707.0  \n",
       "4   0   b-1      16391150   6500.0  "
      ]
     },
     "execution_count": 20,
     "metadata": {},
     "output_type": "execute_result"
    }
   ],
   "source": [
    "df1 = pd.read_csv('E:\\Python\\ML\\Sasta Ticket Dataset\\sastaticket_train.csv')\n",
    "df1.head()"
   ]
  },
  {
   "cell_type": "code",
   "execution_count": 21,
   "metadata": {},
   "outputs": [],
   "source": [
    "date_format_str = '%Y/%m/%d %H:%M:%S.%f'\n",
    "\n",
    "df1['f1'] = pd.to_datetime(df1['f1'])\n",
    "df1['f4'] = pd.to_datetime(df1['f4'])\n",
    "\n",
    "f1 = pd.to_datetime(df1['f1'], date_format_str)\n",
    "f4 = pd.to_datetime(df1['f4'], date_format_str)\n",
    "diff = f4 - f1\n",
    "df1['delta'] = diff"
   ]
  },
  {
   "cell_type": "code",
   "execution_count": 22,
   "metadata": {},
   "outputs": [
    {
     "data": {
      "text/html": [
       "<div>\n",
       "<style scoped>\n",
       "    .dataframe tbody tr th:only-of-type {\n",
       "        vertical-align: middle;\n",
       "    }\n",
       "\n",
       "    .dataframe tbody tr th {\n",
       "        vertical-align: top;\n",
       "    }\n",
       "\n",
       "    .dataframe thead th {\n",
       "        text-align: right;\n",
       "    }\n",
       "</style>\n",
       "<table border=\"1\" class=\"dataframe\">\n",
       "  <thead>\n",
       "    <tr style=\"text-align: right;\">\n",
       "      <th></th>\n",
       "      <th>Unnamed: 0</th>\n",
       "      <th>Unnamed: 0.1</th>\n",
       "      <th>f1</th>\n",
       "      <th>f2</th>\n",
       "      <th>f3</th>\n",
       "      <th>f4</th>\n",
       "      <th>f5</th>\n",
       "      <th>f6</th>\n",
       "      <th>f7</th>\n",
       "      <th>f8</th>\n",
       "      <th>f9</th>\n",
       "      <th>f10</th>\n",
       "      <th>Unnamed: 0.2</th>\n",
       "      <th>target</th>\n",
       "      <th>delta</th>\n",
       "    </tr>\n",
       "  </thead>\n",
       "  <tbody>\n",
       "    <tr>\n",
       "      <th>0</th>\n",
       "      <td>276919</td>\n",
       "      <td>276919</td>\n",
       "      <td>2021-01-08 12:43:27.828728+00:00</td>\n",
       "      <td>x</td>\n",
       "      <td>y</td>\n",
       "      <td>2021-01-23 05:00:00+00:00</td>\n",
       "      <td>2021-01-23 07:00:00+00:00</td>\n",
       "      <td>gamma</td>\n",
       "      <td>True</td>\n",
       "      <td>0.0</td>\n",
       "      <td>0</td>\n",
       "      <td>c-2</td>\n",
       "      <td>276919</td>\n",
       "      <td>7400.0</td>\n",
       "      <td>14 days 16:16:32.171272</td>\n",
       "    </tr>\n",
       "    <tr>\n",
       "      <th>1</th>\n",
       "      <td>12092463</td>\n",
       "      <td>12092463</td>\n",
       "      <td>2021-07-01 04:45:11.397541+00:00</td>\n",
       "      <td>x</td>\n",
       "      <td>y</td>\n",
       "      <td>2021-07-01 13:00:00+00:00</td>\n",
       "      <td>2021-07-01 15:00:00+00:00</td>\n",
       "      <td>alpha</td>\n",
       "      <td>True</td>\n",
       "      <td>35.0</td>\n",
       "      <td>1</td>\n",
       "      <td>a-9</td>\n",
       "      <td>12092463</td>\n",
       "      <td>15377.0</td>\n",
       "      <td>0 days 08:14:48.602459</td>\n",
       "    </tr>\n",
       "    <tr>\n",
       "      <th>2</th>\n",
       "      <td>11061788</td>\n",
       "      <td>11061788</td>\n",
       "      <td>2021-06-24 11:28:47.565115+00:00</td>\n",
       "      <td>x</td>\n",
       "      <td>y</td>\n",
       "      <td>2021-07-29 14:00:00+00:00</td>\n",
       "      <td>2021-07-29 16:00:00+00:00</td>\n",
       "      <td>gamma</td>\n",
       "      <td>True</td>\n",
       "      <td>20.0</td>\n",
       "      <td>1</td>\n",
       "      <td>c-4</td>\n",
       "      <td>11061788</td>\n",
       "      <td>6900.0</td>\n",
       "      <td>35 days 02:31:12.434885</td>\n",
       "    </tr>\n",
       "    <tr>\n",
       "      <th>3</th>\n",
       "      <td>8799808</td>\n",
       "      <td>8799808</td>\n",
       "      <td>2021-06-05 11:09:48.655927+00:00</td>\n",
       "      <td>x</td>\n",
       "      <td>y</td>\n",
       "      <td>2021-06-09 16:00:00+00:00</td>\n",
       "      <td>2021-06-09 18:00:00+00:00</td>\n",
       "      <td>alpha</td>\n",
       "      <td>True</td>\n",
       "      <td>15.0</td>\n",
       "      <td>1</td>\n",
       "      <td>a-23</td>\n",
       "      <td>8799808</td>\n",
       "      <td>9707.0</td>\n",
       "      <td>4 days 04:50:11.344073</td>\n",
       "    </tr>\n",
       "    <tr>\n",
       "      <th>4</th>\n",
       "      <td>16391150</td>\n",
       "      <td>16391150</td>\n",
       "      <td>2021-07-29 09:53:51.065306+00:00</td>\n",
       "      <td>x</td>\n",
       "      <td>y</td>\n",
       "      <td>2021-08-23 05:00:00+00:00</td>\n",
       "      <td>2021-08-23 06:55:00+00:00</td>\n",
       "      <td>beta</td>\n",
       "      <td>True</td>\n",
       "      <td>20.0</td>\n",
       "      <td>0</td>\n",
       "      <td>b-1</td>\n",
       "      <td>16391150</td>\n",
       "      <td>6500.0</td>\n",
       "      <td>24 days 19:06:08.934694</td>\n",
       "    </tr>\n",
       "  </tbody>\n",
       "</table>\n",
       "</div>"
      ],
      "text/plain": [
       "   Unnamed: 0  Unnamed: 0.1                               f1 f2 f3  \\\n",
       "0      276919        276919 2021-01-08 12:43:27.828728+00:00  x  y   \n",
       "1    12092463      12092463 2021-07-01 04:45:11.397541+00:00  x  y   \n",
       "2    11061788      11061788 2021-06-24 11:28:47.565115+00:00  x  y   \n",
       "3     8799808       8799808 2021-06-05 11:09:48.655927+00:00  x  y   \n",
       "4    16391150      16391150 2021-07-29 09:53:51.065306+00:00  x  y   \n",
       "\n",
       "                         f4                         f5     f6    f7    f8  f9  \\\n",
       "0 2021-01-23 05:00:00+00:00  2021-01-23 07:00:00+00:00  gamma  True   0.0   0   \n",
       "1 2021-07-01 13:00:00+00:00  2021-07-01 15:00:00+00:00  alpha  True  35.0   1   \n",
       "2 2021-07-29 14:00:00+00:00  2021-07-29 16:00:00+00:00  gamma  True  20.0   1   \n",
       "3 2021-06-09 16:00:00+00:00  2021-06-09 18:00:00+00:00  alpha  True  15.0   1   \n",
       "4 2021-08-23 05:00:00+00:00  2021-08-23 06:55:00+00:00   beta  True  20.0   0   \n",
       "\n",
       "    f10  Unnamed: 0.2   target                   delta  \n",
       "0   c-2        276919   7400.0 14 days 16:16:32.171272  \n",
       "1   a-9      12092463  15377.0  0 days 08:14:48.602459  \n",
       "2   c-4      11061788   6900.0 35 days 02:31:12.434885  \n",
       "3  a-23       8799808   9707.0  4 days 04:50:11.344073  \n",
       "4   b-1      16391150   6500.0 24 days 19:06:08.934694  "
      ]
     },
     "execution_count": 22,
     "metadata": {},
     "output_type": "execute_result"
    }
   ],
   "source": [
    "df1.head()"
   ]
  },
  {
   "cell_type": "code",
   "execution_count": null,
   "metadata": {},
   "outputs": [],
   "source": [
    "df.describe()"
   ]
  },
  {
   "cell_type": "code",
   "execution_count": null,
   "metadata": {},
   "outputs": [],
   "source": [
    "# functions to calculate time\n",
    "def convert(seconds):\n",
    "    seconds = seconds % (24 * 3600)\n",
    "    hour = seconds // 3600\n",
    "    minutes = seconds // 60\n",
    "    seconds %= 60\n",
    "    return \"%d:%02d:%02d\" % (hour, minutes, seconds)\n",
    "\n",
    "# column addition\n",
    "df['time_1'] = df['time_to_dep(s)'].apply(convert)\n",
    "df['time_2'] = df['travel_time(s)'].apply(convert)\n",
    "df.sample(100)"
   ]
  },
  {
   "cell_type": "code",
   "execution_count": null,
   "metadata": {},
   "outputs": [],
   "source": [
    "df['time_1'].min()"
   ]
  },
  {
   "cell_type": "code",
   "execution_count": null,
   "metadata": {},
   "outputs": [],
   "source": [
    "df['time_1'].max()"
   ]
  }
 ],
 "metadata": {
  "kernelspec": {
   "display_name": "Python 3.9.7 ('base')",
   "language": "python",
   "name": "python3"
  },
  "language_info": {
   "codemirror_mode": {
    "name": "ipython",
    "version": 3
   },
   "file_extension": ".py",
   "mimetype": "text/x-python",
   "name": "python",
   "nbconvert_exporter": "python",
   "pygments_lexer": "ipython3",
   "version": "3.9.7"
  },
  "orig_nbformat": 4,
  "vscode": {
   "interpreter": {
    "hash": "040153658b2322f29e25371813bf6ca353d5391c04b9330cdf176a32929b2ecd"
   }
  }
 },
 "nbformat": 4,
 "nbformat_minor": 2
}
