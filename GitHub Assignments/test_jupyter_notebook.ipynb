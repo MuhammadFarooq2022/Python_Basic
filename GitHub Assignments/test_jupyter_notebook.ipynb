{
 "cells": [
  {
   "cell_type": "markdown",
   "id": "a717bd6b",
   "metadata": {},
   "source": [
    "## **Python ka Chilla with Farooq**\n",
    "## How to use jupyter Note Book\n",
    "## Basics of Python\n",
    "### **01- My first program**"
   ]
  },
  {
   "cell_type": "code",
   "execution_count": 2,
   "id": "537c4b00",
   "metadata": {
    "scrolled": true
   },
   "outputs": [
    {
     "name": "stdout",
     "output_type": "stream",
     "text": [
      "5\n",
      "Hello World\n",
      "We are learning Python\n"
     ]
    }
   ],
   "source": [
    "print(2+3)\n",
    "print(\"Hello World\")\n",
    "print(\"We are learning Python\")"
   ]
  },
  {
   "cell_type": "markdown",
   "id": "3508b3a2",
   "metadata": {},
   "source": [
    "### **02- Operators**"
   ]
  },
  {
   "cell_type": "code",
   "execution_count": 5,
   "id": "d0892e65",
   "metadata": {},
   "outputs": [
    {
     "name": "stdout",
     "output_type": "stream",
     "text": [
      "2\n",
      "3\n",
      "3.0\n",
      "6\n",
      "1\n",
      "3\n",
      "8\n",
      "6.5\n"
     ]
    }
   ],
   "source": [
    "print(3-1)\n",
    "print(2+1)\n",
    "print(6/2)\n",
    "print(2*3)\n",
    "print(13%2)\n",
    "print(6//2)\n",
    "print(2**3)\n",
    "print(3**2/2*3/3+6-4)"
   ]
  },
  {
   "cell_type": "markdown",
   "id": "8da5ce4f",
   "metadata": {},
   "source": [
    "*PEMDAS\n",
    "Parenthesis Exponents Multiply Divide Addition Substraction\n",
    "left to right sequence for M D & A S"
   ]
  },
  {
   "cell_type": "markdown",
   "id": "c5ce4b83",
   "metadata": {},
   "source": [
    "### **03- Strings**"
   ]
  },
  {
   "cell_type": "code",
   "execution_count": 4,
   "id": "672f3b36",
   "metadata": {},
   "outputs": [
    {
     "name": "stdout",
     "output_type": "stream",
     "text": [
      "Hello world\n",
      "We are learning Python\n",
      "Test for single quotes\n",
      "test for double quotes\n",
      "test for triple quotes\n",
      "  what's up  ?\n"
     ]
    }
   ],
   "source": [
    "print(\"Hello world\")\n",
    "print(\"We are learning Python\")\n",
    "print('Test for single quotes')\n",
    "print(\"test for double quotes\")\n",
    "print('''test for triple quotes''')\n",
    "print( \"  what's up  ?\" )"
   ]
  },
  {
   "cell_type": "markdown",
   "id": "3281407c",
   "metadata": {},
   "source": [
    "### **04- Comments in Python**\n",
    "The shortcut key to comments is **Ctrl+/)**"
   ]
  },
  {
   "cell_type": "code",
   "execution_count": 3,
   "id": "10ea4ce3",
   "metadata": {},
   "outputs": [
    {
     "name": "stdout",
     "output_type": "stream",
     "text": [
      "how are you?\n",
      "we are learning python\n",
      "8\n"
     ]
    }
   ],
   "source": [
    "print(\"how are you?\") #press these to comment out (Ctrl+/)\n",
    "print(\"we are learning python\") #print a string\n",
    "\n",
    "print(2+6) # print operators function with numbers"
   ]
  }
 ],
 "metadata": {
  "kernelspec": {
   "display_name": "Python 3 (ipykernel)",
   "language": "python",
   "name": "python3"
  },
  "language_info": {
   "codemirror_mode": {
    "name": "ipython",
    "version": 3
   },
   "file_extension": ".py",
   "mimetype": "text/x-python",
   "name": "python",
   "nbconvert_exporter": "python",
   "pygments_lexer": "ipython3",
   "version": "3.9.17"
  }
 },
 "nbformat": 4,
 "nbformat_minor": 5
}
